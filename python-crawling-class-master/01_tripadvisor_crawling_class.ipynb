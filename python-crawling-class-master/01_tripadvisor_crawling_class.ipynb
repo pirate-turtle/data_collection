{
 "cells": [
  {
   "cell_type": "markdown",
   "metadata": {},
   "source": [
    "# 웹 크롤링 기본\n",
    "\n",
    "* 크롤링 사이트: https://www.tripadvisor.co.kr/Restaurants-g294197-Seoul.html\n",
    "* robots.txt:  https://www.tripadvisor.co.kr/robots.txt\n",
    "\n",
    "\n",
    "### 크롤링 절차\n",
    "\n",
    "1. 사이트의 html을 읽어들이기: requests.get(url) 사용\n",
    "    \n",
    "2. 텍스트 형태의 데이터를 html 태그별로 구분하여 파싱하기 : BeutifulSoup\n",
    "\n",
    "3. 특정 태그값만 찾기 : findAll, find\n",
    "\n",
    "4. 필요한 데이터값 정제하기\n",
    "\n",
    "5. 데이터 저장하기"
   ]
  },
  {
   "cell_type": "code",
   "execution_count": 30,
   "metadata": {},
   "outputs": [],
   "source": [
    "from bs4 import BeautifulSoup\n",
    "import requests\n",
    "import pandas as pd"
   ]
  },
  {
   "cell_type": "code",
   "execution_count": 31,
   "metadata": {},
   "outputs": [
    {
     "data": {
      "text/plain": [
       "<Response [200]>"
      ]
     },
     "execution_count": 31,
     "metadata": {},
     "output_type": "execute_result"
    }
   ],
   "source": [
    "# 크롤링할 웹 사이트 정보\n",
    "base_url = 'https://www.tripadvisor.co.kr'\n",
    "seoul_url = '/Restaurants-g294197-Seoul.html'\n",
    "\n",
    "# get html\n",
    "response = requests.get(base_url+seoul_url)\n",
    "response"
   ]
  },
  {
   "cell_type": "code",
   "execution_count": 32,
   "metadata": {},
   "outputs": [],
   "source": [
    "# response.text"
   ]
  },
  {
   "cell_type": "code",
   "execution_count": 33,
   "metadata": {},
   "outputs": [],
   "source": [
    "# BeautifulSoup을 활용하여 데이터 파싱\n",
    "soup = BeautifulSoup(response.text, 'html.parser')"
   ]
  },
  {
   "cell_type": "code",
   "execution_count": 36,
   "metadata": {},
   "outputs": [
    {
     "data": {
      "text/plain": [
       "[]"
      ]
     },
     "execution_count": 36,
     "metadata": {},
     "output_type": "execute_result"
    }
   ],
   "source": [
    "# 맛집 목록 가져오기\n",
    "# <div class=\"wQjYiB7z\"><span><a href=\"/Restaurant_Review-g294197-d8472275-Reviews-Choigozip_Hongdae-Seoul.html\" class=\"_15_ydu6b\" target=\"_blank\">8<!-- -->. <!-- -->최고집 홍대점</a></span></div>\n",
    "lists = soup.findAll('div', {'class' : 'wQjYiB7z'}) \n",
    "\n",
    "# 이미지는 이렇게는 못받아옴. selenium 이용해야함\n",
    "# lists = soup.findAll('div', {'class' : '_2Hb-Mt7l'}) \n",
    "# lists"
   ]
  },
  {
   "cell_type": "code",
   "execution_count": 29,
   "metadata": {},
   "outputs": [],
   "source": [
    "for item in lists:\n",
    "#     temp = str(item)\n",
    "#     print(temp)\n",
    "#     name = item.text\n",
    "#     print(name)\n",
    "\n",
    "#     name = item.text.split('.')\n",
    "    \n",
    "    # 광고 외의 식당이름만 뽑기\n",
    "#     if(len(name) == 2):\n",
    "#         print(name[0] + name[1])\n",
    "    \n",
    "    # 광고만 뽑기\n",
    "#     if(len(name)<2):\n",
    "#         print(name[0])\n",
    "\n",
    "    # 링크 가져오기\n",
    "    hrefs = item.find('a')\n",
    "    href = hrefs.get('href')\n",
    "    full_url = base_url + href\n",
    "#     print(full_url)"
   ]
  },
  {
   "cell_type": "code",
   "execution_count": 21,
   "metadata": {},
   "outputs": [
    {
     "data": {
      "text/html": [
       "<div>\n",
       "<style scoped>\n",
       "    .dataframe tbody tr th:only-of-type {\n",
       "        vertical-align: middle;\n",
       "    }\n",
       "\n",
       "    .dataframe tbody tr th {\n",
       "        vertical-align: top;\n",
       "    }\n",
       "\n",
       "    .dataframe thead th {\n",
       "        text-align: right;\n",
       "    }\n",
       "</style>\n",
       "<table border=\"1\" class=\"dataframe\">\n",
       "  <thead>\n",
       "    <tr style=\"text-align: right;\">\n",
       "      <th></th>\n",
       "      <th>[ID]</th>\n",
       "      <th>[NAME]</th>\n",
       "      <th>[URL]</th>\n",
       "    </tr>\n",
       "  </thead>\n",
       "  <tbody>\n",
       "    <tr>\n",
       "      <th>0</th>\n",
       "      <td>1</td>\n",
       "      <td>장생건강원</td>\n",
       "      <td>https://www.tripadvisor.co.kr/Restaurant_Revie...</td>\n",
       "    </tr>\n",
       "    <tr>\n",
       "      <th>1</th>\n",
       "      <td>2</td>\n",
       "      <td>플레이버즈</td>\n",
       "      <td>https://www.tripadvisor.co.kr/Restaurant_Revie...</td>\n",
       "    </tr>\n",
       "    <tr>\n",
       "      <th>2</th>\n",
       "      <td>3</td>\n",
       "      <td>구스토 타코</td>\n",
       "      <td>https://www.tripadvisor.co.kr/Restaurant_Revie...</td>\n",
       "    </tr>\n",
       "    <tr>\n",
       "      <th>3</th>\n",
       "      <td>4</td>\n",
       "      <td>지화자</td>\n",
       "      <td>https://www.tripadvisor.co.kr/Restaurant_Revie...</td>\n",
       "    </tr>\n",
       "    <tr>\n",
       "      <th>4</th>\n",
       "      <td>5</td>\n",
       "      <td>853</td>\n",
       "      <td>https://www.tripadvisor.co.kr/Restaurant_Revie...</td>\n",
       "    </tr>\n",
       "  </tbody>\n",
       "</table>\n",
       "</div>"
      ],
      "text/plain": [
       "  [ID]   [NAME]                                              [URL]\n",
       "0    1    장생건강원  https://www.tripadvisor.co.kr/Restaurant_Revie...\n",
       "1    2    플레이버즈  https://www.tripadvisor.co.kr/Restaurant_Revie...\n",
       "2    3   구스토 타코  https://www.tripadvisor.co.kr/Restaurant_Revie...\n",
       "3    4      지화자  https://www.tripadvisor.co.kr/Restaurant_Revie...\n",
       "4    5      853  https://www.tripadvisor.co.kr/Restaurant_Revie..."
      ]
     },
     "execution_count": 21,
     "metadata": {},
     "output_type": "execute_result"
    }
   ],
   "source": [
    "# 데이터 파싱하기\n",
    "rest_id_list = []\n",
    "rest_name_list = []\n",
    "rest_url_list = []\n",
    "\n",
    "for item in lists:\n",
    "    # 링크 가져오기\n",
    "    hrefs = item.find('a')\n",
    "    href = hrefs.get('href')\n",
    "    full_url = base_url + href\n",
    "\n",
    "    # 순위와 이름 분리하기, 광고 제거하기\n",
    "    #[1 , 장생건강원]\n",
    "    #[2,  무슨음식점]\n",
    "    #[광고음식점]\n",
    "    \n",
    "    name = item.text.split('.')\n",
    "\n",
    "    if len(name) == 2:\n",
    "        rest_id = name[0]\n",
    "        rest_name = name[1]\n",
    "        rest_url = full_url\n",
    "        #데이터 프레임을 만들기 위한 리스트\n",
    "        rest_id_list.append(rest_id)\n",
    "        rest_name_list.append(rest_name)\n",
    "        rest_url_list.append(rest_url)\n",
    "#         print('[ID]' + rest_id + ' [NAME]' + rest_name + ' [URL]' + rest_url)\n",
    "        \n",
    "result = pd.DataFrame(data={'[ID]' : rest_id_list, '[NAME]' : rest_name_list, '[URL]' : rest_url_list})\n",
    "result.head()\n",
    "# print(result)\n",
    "# result"
   ]
  },
  {
   "cell_type": "code",
   "execution_count": null,
   "metadata": {},
   "outputs": [],
   "source": [
    "# (실습1) 추천글"
   ]
  },
  {
   "cell_type": "code",
   "execution_count": 22,
   "metadata": {},
   "outputs": [
    {
     "data": {
      "text/plain": [
       "<Response [200]>"
      ]
     },
     "execution_count": 22,
     "metadata": {},
     "output_type": "execute_result"
    }
   ],
   "source": [
    "# (실습2) 크롤링할 웹 사이트 정보\n",
    "# 'https://www.tripadvisor.co.kr/Restaurants-g297885-Jeju_Jeju_Island.html'\n",
    "\n",
    "# 제주 맛집 정보 가져오기\n",
    "jeju_url = '/Restaurants-g297885-Jeju_Jeju_Island.html'\n",
    "\n",
    "response = requests.get(base_url + jeju_url)\n",
    "response"
   ]
  },
  {
   "cell_type": "code",
   "execution_count": 25,
   "metadata": {},
   "outputs": [],
   "source": [
    "# BeautifulSoup을 활용하여 데이터 파싱\n",
    "soup = BeautifulSoup(response.text, 'html.parser')\n",
    "# soup"
   ]
  },
  {
   "cell_type": "code",
   "execution_count": 28,
   "metadata": {},
   "outputs": [
    {
     "name": "stdout",
     "output_type": "stream",
     "text": [
      "1. 인디언키친\n",
      "2. 명진전복\n",
      "3. 우진해장국\n",
      "4. 블루버드 바이 맥파이\n",
      "5. 마초 그릴\n",
      "6. 올래국수\n",
      "7. 고집돌우럭\n",
      "8. 광원\n",
      "9. 삼다정\n",
      "10. 자매국수\n",
      "11. 돈사돈\n",
      "12. 협재화덕 도나토스\n",
      "13. 바그다드\n",
      "14. 스시 호시카이\n",
      "15. 흑돈가 제주본점\n",
      "16. 모디카\n",
      "17. 고집돌우럭 - 함덕점\n",
      "18. 애월리안\n",
      "19. 삼대 국수회관\n",
      "20. 르 쉬느아\n",
      "21. 비원\n",
      "22. 삼성혈해물탕\n",
      "23. 리치망고\n",
      "24. 자매국수\n",
      "25. 화로향\n",
      "26. 저팔계깡통연탄구이\n",
      "27. 라아바나\n",
      "28. 산호 전복\n",
      "29. 곰막\n",
      "30. 국수마당\n"
     ]
    }
   ],
   "source": [
    "# 제주 맛집 이름, url 링크, 리뷰 수, 대표 리뷰 가져오기\n",
    "list_nm = []\n",
    "list_url = []\n",
    "list_rv = []\n",
    "list_rrv = []\n",
    "\n",
    "list = soup.findAll('div', {'class': 'wQjYiB7z'})\n",
    "\n",
    "for item in list:\n",
    "    item.find\n",
    "#        print(item.text)\n",
    "    name = item.text.split('. ')\n",
    "    \n",
    "    if (len(name) == 2):\n",
    "        "
   ]
  },
  {
   "cell_type": "code",
   "execution_count": null,
   "metadata": {},
   "outputs": [],
   "source": []
  }
 ],
 "metadata": {
  "kernelspec": {
   "display_name": "Python 3",
   "language": "python",
   "name": "python3"
  },
  "language_info": {
   "codemirror_mode": {
    "name": "ipython",
    "version": 3
   },
   "file_extension": ".py",
   "mimetype": "text/x-python",
   "name": "python",
   "nbconvert_exporter": "python",
   "pygments_lexer": "ipython3",
   "version": "3.7.6"
  },
  "toc": {
   "base_numbering": 1,
   "nav_menu": {
    "height": "12px",
    "width": "164px"
   },
   "number_sections": false,
   "sideBar": true,
   "skip_h1_title": false,
   "title_cell": "Table of Contents",
   "title_sidebar": "Contents",
   "toc_cell": false,
   "toc_position": {},
   "toc_section_display": true,
   "toc_window_display": false
  }
 },
 "nbformat": 4,
 "nbformat_minor": 4
}
